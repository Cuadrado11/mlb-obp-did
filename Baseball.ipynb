{
 "cells": [
  {
   "cell_type": "code",
   "execution_count": 3,
   "id": "66573ff3-49c6-4fca-9bfa-d5bb8a6b5a16",
   "metadata": {},
   "outputs": [],
   "source": [
    "import pandas as pd\n",
    "import numpy as np\n",
    "from pybaseball import batting_stats\n",
    "from pybaseball import playerid_lookup\n",
    "from pybaseball import statcast, cache\n",
    "import statsmodels.formula.api as smf\n",
    "import warnings\n",
    "\n",
    "\n",
    "\n"
   ]
  },
  {
   "cell_type": "code",
   "execution_count": 4,
   "id": "81d09b73-7ed2-455e-8a1d-812e2b1bd657",
   "metadata": {},
   "outputs": [
    {
     "name": "stdout",
     "output_type": "stream",
     "text": [
      "This is a large query, it may take a moment to complete\n"
     ]
    },
    {
     "name": "stderr",
     "output_type": "stream",
     "text": [
      "100%|█████████████████████████████████████████| 184/184 [00:02<00:00, 74.46it/s]\n",
      "/Library/Frameworks/Python.framework/Versions/3.12/lib/python3.12/site-packages/pybaseball/statcast.py:85: FutureWarning: The behavior of DataFrame concatenation with empty or all-NA entries is deprecated. In a future version, this will no longer exclude empty or all-NA columns when determining the result dtypes. To retain the old behavior, exclude the relevant entries before the concat operation.\n",
      "  final_data = pd.concat(dataframe_list, axis=0).convert_dtypes(convert_string=False)\n"
     ]
    },
    {
     "name": "stdout",
     "output_type": "stream",
     "text": [
      "This is a large query, it may take a moment to complete\n"
     ]
    },
    {
     "name": "stderr",
     "output_type": "stream",
     "text": [
      "100%|█████████████████████████████████████████| 184/184 [00:31<00:00,  5.80it/s]\n",
      "/Library/Frameworks/Python.framework/Versions/3.12/lib/python3.12/site-packages/pybaseball/statcast.py:85: FutureWarning: The behavior of DataFrame concatenation with empty or all-NA entries is deprecated. In a future version, this will no longer exclude empty or all-NA columns when determining the result dtypes. To retain the old behavior, exclude the relevant entries before the concat operation.\n",
      "  final_data = pd.concat(dataframe_list, axis=0).convert_dtypes(convert_string=False)\n"
     ]
    }
   ],
   "source": [
    "# Suppress that specific FutureWarning message from pybaseball\n",
    "warnings.filterwarnings(\n",
    "    \"ignore\",\n",
    "    category=FutureWarning,\n",
    "    message=\".*errors='ignore' is deprecated.*\"\n",
    ")\n",
    "\n",
    "# Enable caching\n",
    "cache.enable()\n",
    "\n",
    "# Load data\n",
    "df_stat_2022 = statcast('2022-04-01', '2022-10-01')\n",
    "df_stat_2023 = statcast('2023-04-01', '2023-10-01')\n",
    "\n",
    "# Save to CSV\n",
    "df_stat_2022.to_csv('df_stat_2022.csv', index=False)\n",
    "df_stat_2023.to_csv('df_stat_2023.csv', index=False)\n",
    "\n",
    "\n"
   ]
  },
  {
   "cell_type": "code",
   "execution_count": 5,
   "id": "ee33aa71-2bd2-4ac8-9442-0aa635d47862",
   "metadata": {},
   "outputs": [
    {
     "name": "stdout",
     "output_type": "stream",
     "text": [
      "1    Ronald Acuna Jr.\n",
      "7     Freddie Freeman\n",
      "4        Mookie Betts\n",
      "6          Matt Olson\n",
      "0       Shohei Ohtani\n",
      "Name: Name, dtype: object\n",
      "Gathering player lookup table. This may take a moment.\n"
     ]
    },
    {
     "data": {
      "text/html": [
       "<div>\n",
       "<style scoped>\n",
       "    .dataframe tbody tr th:only-of-type {\n",
       "        vertical-align: middle;\n",
       "    }\n",
       "\n",
       "    .dataframe tbody tr th {\n",
       "        vertical-align: top;\n",
       "    }\n",
       "\n",
       "    .dataframe thead th {\n",
       "        text-align: right;\n",
       "    }\n",
       "</style>\n",
       "<table border=\"1\" class=\"dataframe\">\n",
       "  <thead>\n",
       "    <tr style=\"text-align: right;\">\n",
       "      <th></th>\n",
       "      <th>name_last</th>\n",
       "      <th>name_first</th>\n",
       "      <th>key_mlbam</th>\n",
       "      <th>key_retro</th>\n",
       "      <th>key_bbref</th>\n",
       "      <th>key_fangraphs</th>\n",
       "      <th>mlb_played_first</th>\n",
       "      <th>mlb_played_last</th>\n",
       "    </tr>\n",
       "  </thead>\n",
       "  <tbody>\n",
       "    <tr>\n",
       "      <th>0</th>\n",
       "      <td>harper</td>\n",
       "      <td>bryce</td>\n",
       "      <td>547180</td>\n",
       "      <td>harpb003</td>\n",
       "      <td>harpebr03</td>\n",
       "      <td>11579</td>\n",
       "      <td>2012.0</td>\n",
       "      <td>2025.0</td>\n",
       "    </tr>\n",
       "  </tbody>\n",
       "</table>\n",
       "</div>"
      ],
      "text/plain": [
       "  name_last name_first  key_mlbam key_retro  key_bbref  key_fangraphs  \\\n",
       "0    harper      bryce     547180  harpb003  harpebr03          11579   \n",
       "\n",
       "   mlb_played_first  mlb_played_last  \n",
       "0            2012.0           2025.0  "
      ]
     },
     "execution_count": 5,
     "metadata": {},
     "output_type": "execute_result"
    }
   ],
   "source": [
    "# Load both years\n",
    "df_2022 = batting_stats(2022)\n",
    "df_2023 = batting_stats(2023, qual=200)\n",
    "\n",
    "# Add year indicator\n",
    "df_2022['year'] = 2022\n",
    "df_2023['year'] = 2023\n",
    "print(df_2023['Name'].head())\n",
    "\n",
    "# # Example: lookup by name\n",
    "playerid_lookup('Harper', 'Bryce')\n",
    "\n"
   ]
  },
  {
   "cell_type": "code",
   "execution_count": 6,
   "id": "45d3e1ff-6db5-4096-963b-6f9939488e26",
   "metadata": {},
   "outputs": [
    {
     "name": "stdout",
     "output_type": "stream",
     "text": [
      "                 Name  key_mlbam\n",
      "0    Ronald Acuna Jr.        NaN\n",
      "1     Freddie Freeman   518692.0\n",
      "2        Mookie Betts   605141.0\n",
      "3          Matt Olson   621566.0\n",
      "4       Shohei Ohtani   660271.0\n",
      "..                ...        ...\n",
      "357       Kris Bryant   592178.0\n",
      "358       Jean Segura   516416.0\n",
      "359      Gavin Sheets   657757.0\n",
      "360     Harold Castro   605612.0\n",
      "361  Jurickson Profar   595777.0\n",
      "\n",
      "[362 rows x 2 columns]\n",
      "                 Name  key_mlbam\n",
      "0         Aaron Judge   592450.0\n",
      "1       Nolan Arenado   571448.0\n",
      "2       Manny Machado   592518.0\n",
      "3         Jose Altuve        NaN\n",
      "4    Paul Goldschmidt   502671.0\n",
      "..                ...        ...\n",
      "125     Andrew Vaughn   683734.0\n",
      "126       Nelson Cruz   112906.0\n",
      "127       MJ Melendez   669004.0\n",
      "128     Jesus Aguilar        NaN\n",
      "129      Yuli Gurriel   493329.0\n",
      "\n",
      "[130 rows x 2 columns]\n"
     ]
    }
   ],
   "source": [
    "unique_names_2023 = df_2023['Name'].dropna().unique()\n",
    "\n",
    "# Initialize a list for storage\n",
    "player_ids_2023 = []\n",
    "\n",
    "# Loop through each name in 2023\n",
    "for full_name in unique_names_2023:\n",
    "    try:\n",
    "        # Split into first and last name\n",
    "        first_name, last_name = full_name.strip().split(' ', 1)\n",
    "\n",
    "        # Use playerid_lookup\n",
    "        lookup_result = playerid_lookup(last_name, first_name)\n",
    "\n",
    "        # If result found, store the first key_mlbam\n",
    "        if not lookup_result.empty:\n",
    "            key_mlbam = lookup_result['key_mlbam'].values[0]\n",
    "            player_ids_2023.append({'Name': full_name, 'key_mlbam': key_mlbam})\n",
    "        else:\n",
    "            player_ids_2023.append({'Name': full_name, 'key_mlbam': None})\n",
    "\n",
    "    except Exception as e:\n",
    "        player_ids_2023.append({'Name': full_name, 'key_mlbam': None})\n",
    "\n",
    "# Convert the results to a DataFrame\n",
    "id_df_2023 = pd.DataFrame(player_ids_2023)\n",
    "print(id_df_2023)\n",
    "\n",
    "unique_names_2022 = df_2022['Name'].dropna().unique()\n",
    "\n",
    "# Initialize 2022 list for storage\n",
    "player_ids_2022 = []\n",
    "\n",
    "# Loop through each unique name\n",
    "for full_name in unique_names_2022:\n",
    "    try:\n",
    "        first_name, last_name = full_name.strip().split(' ', 1)\n",
    "\n",
    "        lookup_result = playerid_lookup(last_name, first_name)\n",
    "\n",
    "        if not lookup_result.empty:\n",
    "            key_mlbam = lookup_result['key_mlbam'].values[0]\n",
    "            player_ids_2022.append({'Name': full_name, 'key_mlbam': key_mlbam})\n",
    "        else:\n",
    "            player_ids_2022.append({'Name': full_name, 'key_mlbam': None})\n",
    "\n",
    "    except Exception as e:\n",
    "        player_ids_2022.append({'Name': full_name, 'key_mlbam': None})\n",
    "\n",
    "id_df_2022 = pd.DataFrame(player_ids_2022)\n",
    "print(id_df_2022)"
   ]
  },
  {
   "cell_type": "code",
   "execution_count": 7,
   "id": "2e54c7d2-0cd9-4a25-ae83-1bebdba8ca1d",
   "metadata": {},
   "outputs": [],
   "source": [
    "#Filter out na's\n",
    "df_filtered_2022 = id_df_2022[id_df_2022['key_mlbam'].notna()]\n",
    "df_filtered_2023 = id_df_2023[id_df_2023['key_mlbam'].notna()]\n"
   ]
  },
  {
   "cell_type": "code",
   "execution_count": 8,
   "id": "6c0ff689-33fc-4301-a863-c7655eb9434a",
   "metadata": {},
   "outputs": [
    {
     "name": "stderr",
     "output_type": "stream",
     "text": [
      "/var/folders/7r/gd_3jt3n5lqcwpyx538q_jjw0000gn/T/ipykernel_48096/397675082.py:3: SettingWithCopyWarning: \n",
      "A value is trying to be set on a copy of a slice from a DataFrame.\n",
      "Try using .loc[row_indexer,col_indexer] = value instead\n",
      "\n",
      "See the caveats in the documentation: https://pandas.pydata.org/pandas-docs/stable/user_guide/indexing.html#returning-a-view-versus-a-copy\n",
      "  df_filtered_2023['dominant_hand'] = df_filtered_2023['key_mlbam'].map(batter_to_hand_2023)\n",
      "/var/folders/7r/gd_3jt3n5lqcwpyx538q_jjw0000gn/T/ipykernel_48096/397675082.py:5: SettingWithCopyWarning: \n",
      "A value is trying to be set on a copy of a slice from a DataFrame.\n",
      "Try using .loc[row_indexer,col_indexer] = value instead\n",
      "\n",
      "See the caveats in the documentation: https://pandas.pydata.org/pandas-docs/stable/user_guide/indexing.html#returning-a-view-versus-a-copy\n",
      "  df_filtered_2022['dominant_hand'] = df_filtered_2022['key_mlbam'].map(batter_to_hand_2022)\n"
     ]
    }
   ],
   "source": [
    "#Get Dominant Hand from df_stat\n",
    "batter_to_hand_2023 = df_stat_2023.set_index('batter')['stand'].to_dict()\n",
    "df_filtered_2023['dominant_hand'] = df_filtered_2023['key_mlbam'].map(batter_to_hand_2023)\n",
    "batter_to_hand_2022 = df_stat_2022.set_index('batter')['stand'].to_dict()\n",
    "df_filtered_2022['dominant_hand'] = df_filtered_2022['key_mlbam'].map(batter_to_hand_2022)\n"
   ]
  },
  {
   "cell_type": "code",
   "execution_count": 10,
   "id": "ef4e59ca-46f3-4f37-8d88-df0f812d4d29",
   "metadata": {},
   "outputs": [
    {
     "name": "stdout",
     "output_type": "stream",
     "text": [
      "1     97\n",
      "7     89\n",
      "4    113\n",
      "6     93\n",
      "0     95\n",
      "Name: Pull%+, dtype: int64\n"
     ]
    }
   ],
   "source": [
    "test_df = batting_stats(2023, qual=200)\n",
    "print(test_df['Pull%+'].head())"
   ]
  },
  {
   "cell_type": "code",
   "execution_count": 11,
   "id": "05866c6c-ecd8-4170-a28b-01efd7679ba2",
   "metadata": {},
   "outputs": [
    {
     "name": "stdout",
     "output_type": "stream",
     "text": [
      "                            OLS Regression Results                            \n",
      "==============================================================================\n",
      "Dep. Variable:                    OBP   R-squared:                       0.053\n",
      "Model:                            OLS   Adj. R-squared:                  0.037\n",
      "Method:                 Least Squares   F-statistic:                     3.284\n",
      "Date:                Thu, 26 Jun 2025   Prob (F-statistic):            0.00208\n",
      "Time:                        15:52:51   Log-Likelihood:                 843.02\n",
      "No. Observations:                 416   AIC:                            -1670.\n",
      "Df Residuals:                     408   BIC:                            -1638.\n",
      "Df Model:                           7                                         \n",
      "Covariance Type:            nonrobust                                         \n",
      "===================================================================================================\n",
      "                                      coef    std err          t      P>|t|      [0.025      0.975]\n",
      "---------------------------------------------------------------------------------------------------\n",
      "Intercept                           0.3253      0.005     70.717      0.000       0.316       0.334\n",
      "C(year)[T.2023]                    -0.0083      0.005     -1.529      0.127      -0.019       0.002\n",
      "lefty                               0.0121      0.007      1.636      0.103      -0.002       0.027\n",
      "lefty:C(year)[T.2023]              -0.0004      0.009     -0.049      0.961      -0.017       0.016\n",
      "high_pull                           0.0050      0.009      0.573      0.567      -0.012       0.022\n",
      "C(year)[T.2023]:high_pull          -0.0098      0.010     -0.958      0.339      -0.030       0.010\n",
      "lefty:high_pull                    -0.0359      0.015     -2.324      0.021      -0.066      -0.006\n",
      "lefty:C(year)[T.2023]:high_pull     0.0316      0.018      1.790      0.074      -0.003       0.066\n",
      "==============================================================================\n",
      "Omnibus:                        1.912   Durbin-Watson:                   0.992\n",
      "Prob(Omnibus):                  0.384   Jarque-Bera (JB):                1.741\n",
      "Skew:                           0.154   Prob(JB):                        0.419\n",
      "Kurtosis:                       3.074   Cond. No.                         23.2\n",
      "==============================================================================\n",
      "\n",
      "Notes:\n",
      "[1] Standard Errors assume that the covariance matrix of the errors is correctly specified.\n"
     ]
    },
    {
     "name": "stderr",
     "output_type": "stream",
     "text": [
      "/var/folders/7r/gd_3jt3n5lqcwpyx538q_jjw0000gn/T/ipykernel_48096/1525978250.py:12: SettingWithCopyWarning: \n",
      "A value is trying to be set on a copy of a slice from a DataFrame.\n",
      "Try using .loc[row_indexer,col_indexer] = value instead\n",
      "\n",
      "See the caveats in the documentation: https://pandas.pydata.org/pandas-docs/stable/user_guide/indexing.html#returning-a-view-versus-a-copy\n",
      "  df_filtered_2022['lefty'] = (df_filtered_2022['dominant_hand'] == 'L').astype(int)\n",
      "/var/folders/7r/gd_3jt3n5lqcwpyx538q_jjw0000gn/T/ipykernel_48096/1525978250.py:13: SettingWithCopyWarning: \n",
      "A value is trying to be set on a copy of a slice from a DataFrame.\n",
      "Try using .loc[row_indexer,col_indexer] = value instead\n",
      "\n",
      "See the caveats in the documentation: https://pandas.pydata.org/pandas-docs/stable/user_guide/indexing.html#returning-a-view-versus-a-copy\n",
      "  df_filtered_2023['lefty'] = (df_filtered_2023['dominant_hand'] == 'L').astype(int)\n"
     ]
    }
   ],
   "source": [
    "##############################################################################################################\n",
    "# DiD REGRESSION ON LEFTY PULL HEAVY HITTERS AFTER 2023 RULE CHANGE\n",
    "##############################################################################################################\n",
    "\n",
    "#Load batting stats\n",
    "df_2022 = batting_stats(2022, qual=200)\n",
    "df_2023 = batting_stats(2023, qual=200)\n",
    "df_2022['year'] = 2022\n",
    "df_2023['year'] = 2023\n",
    "\n",
    "#Merge lefty info from external handedness dataframe (you already have df_filtered_2022 and df_filtered_2023)\n",
    "df_filtered_2022['lefty'] = (df_filtered_2022['dominant_hand'] == 'L').astype(int)\n",
    "df_filtered_2023['lefty'] = (df_filtered_2023['dominant_hand'] == 'L').astype(int)\n",
    "\n",
    "df_2022 = df_2022.merge(df_filtered_2022[['Name', 'lefty']], on='Name', how='left')\n",
    "df_2023 = df_2023.merge(df_filtered_2023[['Name', 'lefty']], on='Name', how='left')\n",
    "\n",
    "#Combine both years\n",
    "df_all = pd.concat([df_2022, df_2023], ignore_index=True)\n",
    "\n",
    "#Keep players with data from both years and known handedness - DELETED THIS\n",
    "# counts = df_all['IDfg'].value_counts()\n",
    "# df_all = df_all[df_all['IDfg'].isin(counts[counts == 2].index)]\n",
    "df_all = df_all[df_all['lefty'].notna()]\n",
    "\n",
    "#Create high_pull dummy from Pull%+ (110 = pulls 10% more than league avg)\n",
    "pull_threshold = 110\n",
    "df_all['high_pull'] = (df_all['Pull%+'] >= pull_threshold).astype(int)\n",
    "\n",
    "#Run DiD with triple interaction term\n",
    "model = smf.ols('OBP ~ lefty * C(year) * high_pull', data=df_all).fit()\n",
    "print(model.summary())"
   ]
  },
  {
   "cell_type": "code",
   "execution_count": null,
   "id": "7476ba31-9002-4e34-a9f9-2c41d8e65823",
   "metadata": {},
   "outputs": [
    {
     "name": "stdout",
     "output_type": "stream",
     "text": [
      "This is a large query, it may take a moment to complete\n"
     ]
    },
    {
     "name": "stderr",
     "output_type": "stream",
     "text": [
      "100%|█████████████████████████████████████████| 184/184 [01:13<00:00,  2.51it/s]\n",
      "/Library/Frameworks/Python.framework/Versions/3.12/lib/python3.12/site-packages/pybaseball/statcast.py:85: FutureWarning: The behavior of DataFrame concatenation with empty or all-NA entries is deprecated. In a future version, this will no longer exclude empty or all-NA columns when determining the result dtypes. To retain the old behavior, exclude the relevant entries before the concat operation.\n",
      "  final_data = pd.concat(dataframe_list, axis=0).convert_dtypes(convert_string=False)\n"
     ]
    },
    {
     "name": "stdout",
     "output_type": "stream",
     "text": [
      "This is a large query, it may take a moment to complete\n",
      "Skipping offseason dates\n"
     ]
    },
    {
     "name": "stderr",
     "output_type": "stream",
     "text": [
      "100%|███████████████████████████████████████████| 71/71 [00:48<00:00,  1.47it/s]\n",
      "/Library/Frameworks/Python.framework/Versions/3.12/lib/python3.12/site-packages/pybaseball/statcast.py:85: FutureWarning: The behavior of DataFrame concatenation with empty or all-NA entries is deprecated. In a future version, this will no longer exclude empty or all-NA columns when determining the result dtypes. To retain the old behavior, exclude the relevant entries before the concat operation.\n",
      "  final_data = pd.concat(dataframe_list, axis=0).convert_dtypes(convert_string=False)\n"
     ]
    }
   ],
   "source": [
    "##############################################################################################################\n",
    "# PARALLEL ASSUMPTIONS CHECK\n",
    "##############################################################################################################\n",
    "# Suppress that specific FutureWarning message from pybaseball\n",
    "warnings.filterwarnings(\n",
    "    \"ignore\",\n",
    "    category=FutureWarning,\n",
    "    message=\".*errors='ignore' is deprecated.*\"\n",
    ")\n",
    "\n",
    "# Enable caching\n",
    "cache.enable()\n",
    "\n",
    "# Load Statcast data from 2023\n",
    "df_stat_2021 = statcast('2021-04-01', '2021-10-01')\n",
    "df_stat_2020 = statcast('2020-04-01', '2020-10-01')\n",
    "\n",
    "# Save to CSV\n",
    "df_stat_2020.to_csv('df_stat_2020.csv', index=False)\n",
    "df_stat_2021.to_csv('df_stat_2021.csv', index=False)\n",
    "\n"
   ]
  },
  {
   "cell_type": "code",
   "execution_count": 14,
   "id": "af26f4ca-6e2b-430d-9e15-b0ecc51d949c",
   "metadata": {},
   "outputs": [
    {
     "name": "stdout",
     "output_type": "stream",
     "text": [
      "17           Trea Turner\n",
      "1              Juan Soto\n",
      "8     Fernando Tatis Jr.\n",
      "0           Bryce Harper\n",
      "34          Jose Ramirez\n",
      "Name: Name, dtype: object\n",
      "                   Name  key_mlbam\n",
      "0    Fernando Tatis Jr.        NaN\n",
      "1          Jose Ramirez        NaN\n",
      "2       Freddie Freeman   518692.0\n",
      "3            Jose Abreu        NaN\n",
      "4           Trea Turner   607208.0\n",
      "..                  ...        ...\n",
      "137     Eduardo Escobar   500871.0\n",
      "138          Nick Solak   669256.0\n",
      "139           Josh Bell   458679.0\n",
      "140       J.D. Martinez        NaN\n",
      "141     Jonathan Villar   542340.0\n",
      "\n",
      "[142 rows x 2 columns]\n",
      "                   Name  key_mlbam\n",
      "0           Trea Turner   607208.0\n",
      "1             Juan Soto   665742.0\n",
      "2    Fernando Tatis Jr.        NaN\n",
      "3          Bryce Harper   547180.0\n",
      "4          Jose Ramirez        NaN\n",
      "..                  ...        ...\n",
      "357     Gregory Polanco   570256.0\n",
      "358      Carter Kieboom   666198.0\n",
      "359           Isan Diaz        NaN\n",
      "360           Joe Panik   605412.0\n",
      "361  Jackie Bradley Jr.        NaN\n",
      "\n",
      "[362 rows x 2 columns]\n"
     ]
    }
   ],
   "source": [
    "\n",
    "# Load both years\n",
    "df_2020 = batting_stats(2020)\n",
    "df_2021 = batting_stats(2021, qual=200)\n",
    "\n",
    "# Add year indicator\n",
    "df_2020['year'] = 2020\n",
    "df_2021['year'] = 2021\n",
    "print(df_2021['Name'].head())\n",
    "\n",
    "\n",
    "# ----- 2020 -----\n",
    "unique_names_2020 = df_2020['Name'].dropna().unique()\n",
    "\n",
    "player_ids_2020 = []\n",
    "\n",
    "for full_name in unique_names_2020:\n",
    "    try:\n",
    "        first_name, last_name = full_name.strip().split(' ', 1)\n",
    "        lookup_result = playerid_lookup(last_name, first_name)\n",
    "\n",
    "        if not lookup_result.empty:\n",
    "            key_mlbam = lookup_result['key_mlbam'].values[0]\n",
    "            player_ids_2020.append({'Name': full_name, 'key_mlbam': key_mlbam})\n",
    "        else:\n",
    "            player_ids_2020.append({'Name': full_name, 'key_mlbam': None})\n",
    "\n",
    "    except Exception as e:\n",
    "        player_ids_2020.append({'Name': full_name, 'key_mlbam': None})\n",
    "\n",
    "id_df_2020 = pd.DataFrame(player_ids_2020)\n",
    "print(id_df_2020)\n",
    "\n",
    "# ----- 2021 -----\n",
    "unique_names_2021 = df_2021['Name'].dropna().unique()\n",
    "\n",
    "player_ids_2021 = []\n",
    "\n",
    "for full_name in unique_names_2021:\n",
    "    try:\n",
    "        first_name, last_name = full_name.strip().split(' ', 1)\n",
    "        lookup_result = playerid_lookup(last_name, first_name)\n",
    "\n",
    "        if not lookup_result.empty:\n",
    "            key_mlbam = lookup_result['key_mlbam'].values[0]\n",
    "            player_ids_2021.append({'Name': full_name, 'key_mlbam': key_mlbam})\n",
    "        else:\n",
    "            player_ids_2021.append({'Name': full_name, 'key_mlbam': None})\n",
    "\n",
    "    except Exception as e:\n",
    "        player_ids_2021.append({'Name': full_name, 'key_mlbam': None})\n",
    "\n",
    "id_df_2021 = pd.DataFrame(player_ids_2021)\n",
    "print(id_df_2021)\n",
    "\n"
   ]
  },
  {
   "cell_type": "code",
   "execution_count": 17,
   "id": "8a776a97-db95-49e4-ad6e-85eda47a4a38",
   "metadata": {},
   "outputs": [],
   "source": [
    "df_filtered_2020 = id_df_2020[id_df_2020['key_mlbam'].notna()]\n",
    "df_filtered_2021 = id_df_2021[id_df_2021['key_mlbam'].notna()]"
   ]
  },
  {
   "cell_type": "code",
   "execution_count": 18,
   "id": "3720fa7b-791e-4c17-b703-09627e4ab82d",
   "metadata": {},
   "outputs": [
    {
     "name": "stderr",
     "output_type": "stream",
     "text": [
      "/var/folders/7r/gd_3jt3n5lqcwpyx538q_jjw0000gn/T/ipykernel_20617/666667684.py:3: SettingWithCopyWarning: \n",
      "A value is trying to be set on a copy of a slice from a DataFrame.\n",
      "Try using .loc[row_indexer,col_indexer] = value instead\n",
      "\n",
      "See the caveats in the documentation: https://pandas.pydata.org/pandas-docs/stable/user_guide/indexing.html#returning-a-view-versus-a-copy\n",
      "  df_filtered_2020['dominant_hand'] = df_filtered_2020['key_mlbam'].map(batter_to_hand_2020)\n",
      "/var/folders/7r/gd_3jt3n5lqcwpyx538q_jjw0000gn/T/ipykernel_20617/666667684.py:7: SettingWithCopyWarning: \n",
      "A value is trying to be set on a copy of a slice from a DataFrame.\n",
      "Try using .loc[row_indexer,col_indexer] = value instead\n",
      "\n",
      "See the caveats in the documentation: https://pandas.pydata.org/pandas-docs/stable/user_guide/indexing.html#returning-a-view-versus-a-copy\n",
      "  df_filtered_2021['dominant_hand'] = df_filtered_2021['key_mlbam'].map(batter_to_hand_2021)\n"
     ]
    }
   ],
   "source": [
    "# ----- 2020 -----\n",
    "batter_to_hand_2020 = df_stat_2020.set_index('batter')['stand'].to_dict()\n",
    "df_filtered_2020['dominant_hand'] = df_filtered_2020['key_mlbam'].map(batter_to_hand_2020)\n",
    "\n",
    "# ----- 2021 -----\n",
    "batter_to_hand_2021 = df_stat_2021.set_index('batter')['stand'].to_dict()\n",
    "df_filtered_2021['dominant_hand'] = df_filtered_2021['key_mlbam'].map(batter_to_hand_2021)\n"
   ]
  },
  {
   "cell_type": "code",
   "execution_count": 40,
   "id": "3ca9a4e6-cce1-463c-aca3-1b5da4584262",
   "metadata": {},
   "outputs": [
    {
     "name": "stderr",
     "output_type": "stream",
     "text": [
      "/var/folders/7r/gd_3jt3n5lqcwpyx538q_jjw0000gn/T/ipykernel_20617/628272602.py:8: SettingWithCopyWarning: \n",
      "A value is trying to be set on a copy of a slice from a DataFrame.\n",
      "Try using .loc[row_indexer,col_indexer] = value instead\n",
      "\n",
      "See the caveats in the documentation: https://pandas.pydata.org/pandas-docs/stable/user_guide/indexing.html#returning-a-view-versus-a-copy\n",
      "  df_filtered_2022['lefty'] = (df_filtered_2022['dominant_hand'] == 'L').astype(int)\n",
      "/var/folders/7r/gd_3jt3n5lqcwpyx538q_jjw0000gn/T/ipykernel_20617/628272602.py:9: SettingWithCopyWarning: \n",
      "A value is trying to be set on a copy of a slice from a DataFrame.\n",
      "Try using .loc[row_indexer,col_indexer] = value instead\n",
      "\n",
      "See the caveats in the documentation: https://pandas.pydata.org/pandas-docs/stable/user_guide/indexing.html#returning-a-view-versus-a-copy\n",
      "  df_filtered_2023['lefty'] = (df_filtered_2023['dominant_hand'] == 'L').astype(int)\n",
      "/var/folders/7r/gd_3jt3n5lqcwpyx538q_jjw0000gn/T/ipykernel_20617/628272602.py:23: SettingWithCopyWarning: \n",
      "A value is trying to be set on a copy of a slice from a DataFrame.\n",
      "Try using .loc[row_indexer,col_indexer] = value instead\n",
      "\n",
      "See the caveats in the documentation: https://pandas.pydata.org/pandas-docs/stable/user_guide/indexing.html#returning-a-view-versus-a-copy\n",
      "  df_filtered_2020['lefty'] = (df_filtered_2020['dominant_hand'] == 'L').astype(int)\n",
      "/var/folders/7r/gd_3jt3n5lqcwpyx538q_jjw0000gn/T/ipykernel_20617/628272602.py:24: SettingWithCopyWarning: \n",
      "A value is trying to be set on a copy of a slice from a DataFrame.\n",
      "Try using .loc[row_indexer,col_indexer] = value instead\n",
      "\n",
      "See the caveats in the documentation: https://pandas.pydata.org/pandas-docs/stable/user_guide/indexing.html#returning-a-view-versus-a-copy\n",
      "  df_filtered_2021['lefty'] = (df_filtered_2021['dominant_hand'] == 'L').astype(int)\n"
     ]
    }
   ],
   "source": [
    "# Step 1: Load batting stats\n",
    "df_2022 = batting_stats(2022, qual=200)\n",
    "df_2023 = batting_stats(2023, qual=200)\n",
    "df_2022['year'] = 2022\n",
    "df_2023['year'] = 2023\n",
    "\n",
    "# Step 2: Merge lefty info from external handedness dataframe (you already have df_filtered_2022 and df_filtered_2023)\n",
    "df_filtered_2022['lefty'] = (df_filtered_2022['dominant_hand'] == 'L').astype(int)\n",
    "df_filtered_2023['lefty'] = (df_filtered_2023['dominant_hand'] == 'L').astype(int)\n",
    "\n",
    "df_2022 = df_2022.merge(df_filtered_2022[['Name', 'lefty']], on='Name', how='left')\n",
    "df_2023 = df_2023.merge(df_filtered_2023[['Name', 'lefty']], on='Name', how='left')\n",
    "\n",
    "#####2020 AND 2021\n",
    "\n",
    "# Step 1: Load data\n",
    "df_2020 = batting_stats(2020, qual=200)\n",
    "df_2021 = batting_stats(2021, qual=200)\n",
    "df_2020['year'] = 2020\n",
    "df_2021['year'] = 2021\n",
    "\n",
    "# Step 2: Merge lefty info from external handedness dataframes\n",
    "df_filtered_2020['lefty'] = (df_filtered_2020['dominant_hand'] == 'L').astype(int)\n",
    "df_filtered_2021['lefty'] = (df_filtered_2021['dominant_hand'] == 'L').astype(int)\n",
    "\n",
    "df_2020 = df_2020.merge(df_filtered_2020[['Name', 'lefty']], on='Name', how='left')\n",
    "df_2021 = df_2021.merge(df_filtered_2021[['Name', 'lefty']], on='Name', how='left')"
   ]
  },
  {
   "cell_type": "code",
   "execution_count": 56,
   "id": "9e305476-a734-4ad2-ac98-8847d3043ef3",
   "metadata": {},
   "outputs": [
    {
     "name": "stdout",
     "output_type": "stream",
     "text": [
      "    IDfg                Name  year  lefty  Pull%+    OBP\n",
      "0  19709  Fernando Tatis Jr.  2020    NaN     109  0.366\n",
      "1  13510        Jose Ramirez  2020    NaN     126  0.386\n",
      "2   5361     Freddie Freeman  2020    1.0      92  0.462\n",
      "3  15676          Jose Abreu  2020    NaN      92  0.370\n",
      "4  16252         Trea Turner  2020    0.0      75  0.394\n"
     ]
    }
   ],
   "source": [
    "df_2020_filt = df_2020[['IDfg', 'Name', 'year', 'lefty', 'Pull%+', 'OBP']]\n",
    "df_2021_filt = df_2021[['IDfg', 'Name', 'year', 'lefty', 'Pull%+', 'OBP']]\n",
    "df_2022_filt = df_2022[['IDfg', 'Name', 'year', 'lefty', 'Pull%+', 'OBP']]\n",
    "df_2023_filt = df_2023[['IDfg', 'Name', 'year', 'lefty', 'Pull%+', 'OBP']]\n",
    "\n",
    "print(df_2020_filt.head())\n",
    "df_pretrend = pd.concat([df_2020_filt, df_2021_filt, df_2022_filt, df_2023_filt], ignore_index=True)\n",
    "# Count how many years each player appears in\n",
    "counts = df_pretrend['IDfg'].value_counts()\n",
    "common_ids = counts[counts == 4].index\n",
    "\n",
    "# # Filter to players in all 3 years\n",
    "# df_pretrend = df_pretrend[df_pretrend['IDfg'].isin(common_ids)].copy()\n",
    "\n",
    "# Define high_pull and treated\n",
    "df_pretrend['high_pull'] = (df_pretrend['Pull%+'] >= 110).astype(int)\n",
    "df_pretrend['treated'] = ((df_pretrend['lefty'] == 1) & (df_pretrend['high_pull'] == 1)).astype(int)\n",
    "\n",
    "\n",
    "\n"
   ]
  },
  {
   "cell_type": "code",
   "execution_count": 57,
   "id": "cf342e9f-2b0a-4ef4-a493-8213f9f04313",
   "metadata": {},
   "outputs": [
    {
     "data": {
      "image/png": "[encoded data removed]",
      "text/plain": [
       "<Figure size 640x480 with 1 Axes>"
      ]
     },
     "metadata": {},
     "output_type": "display_data"
    }
   ],
   "source": [
    "#PARALLEL TRENDS ASSUMPTION\n",
    "\n",
    "# Group by year and treatment status, then take mean OBP\n",
    "group_means = df_pretrend.groupby(['year', 'treated'])['OBP'].mean().reset_index()\n",
    "\n",
    "# Make sure year is integer for clean axis labels\n",
    "group_means['year'] = group_means['year'].astype(int)\n",
    "\n",
    "# Plot\n",
    "import matplotlib.pyplot as plt\n",
    "\n",
    "for group in [0, 1]:\n",
    "    df_plot = group_means[group_means['treated'] == group]\n",
    "    label = \"Treatment (Lefty & High Pull)\" if group == 1 else \"Control\"\n",
    "    plt.plot(df_plot['year'], df_plot['OBP'], marker='o', label=label)\n",
    "\n",
    "plt.title(\"Group Average OBP by Year (2020–2022)\")\n",
    "plt.xlabel(\"Year\")\n",
    "plt.ylabel(\"OBP\")\n",
    "plt.xticks([2020, 2021, 2022, 2023])\n",
    "plt.legend()\n",
    "plt.grid(True)\n",
    "plt.show()\n",
    "\n"
   ]
  },
  {
   "cell_type": "code",
   "execution_count": null,
   "id": "fb3c6d45-718f-4526-b6a4-1377d1b426be",
   "metadata": {},
   "outputs": [],
   "source": []
  }
 ],
 "metadata": {
  "kernelspec": {
   "display_name": "Python 3 (ipykernel)",
   "language": "python",
   "name": "python3"
  },
  "language_info": {
   "codemirror_mode": {
    "name": "ipython",
    "version": 3
   },
   "file_extension": ".py",
   "mimetype": "text/x-python",
   "name": "python",
   "nbconvert_exporter": "python",
   "pygments_lexer": "ipython3",
   "version": "3.12.4"
  }
 },
 "nbformat": 4,
 "nbformat_minor": 5
}
